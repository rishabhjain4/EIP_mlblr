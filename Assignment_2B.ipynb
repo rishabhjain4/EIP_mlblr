{
 "cells": [
  {
   "cell_type": "code",
   "execution_count": 1,
   "metadata": {},
   "outputs": [],
   "source": [
    "import numpy as np"
   ]
  },
  {
   "cell_type": "code",
   "execution_count": 2,
   "metadata": {},
   "outputs": [],
   "source": [
    "def get_random_mat(row, col, low = 0, high = 1):\n",
    "    return np.random.uniform(low = low, high = high, size=(row,col))\n",
    "def sigmoid(x):\n",
    "    return 1/(1+np.exp(-x))\n",
    "def derivative_sigmoid(x):\n",
    "    return x * (1-x)"
   ]
  },
  {
   "cell_type": "code",
   "execution_count": 4,
   "metadata": {},
   "outputs": [],
   "source": [
    "X = np.array([[1,0,1,0],[1,0,1,1],[0,1,0,1]])\n",
    "y = np.array([[1],[1],[0]])\n",
    "input_mat_neurons = X.shape[1]\n",
    "hidden_neurons = 3\n",
    "output_neurons = 1\n",
    "wh = get_random_mat(input_mat_neurons,hidden_neurons)\n",
    "bh = get_random_mat(1,hidden_neurons)\n",
    "wout = get_random_mat(hidden_neurons,output_neurons)\n",
    "bout = get_random_mat(1,output_neurons)\n",
    "lr = 0.1\n",
    "hidden_layer_input = np.dot(X,wh) + bh\n",
    "hidden_layer_activation = sigmoid(hidden_layer_input)\n",
    "output_layer = np.dot(hidden_layer_activation,wout) + bout\n",
    "output = sigmoid(output_layer)\n",
    "E = y - output"
   ]
  },
  {
   "cell_type": "code",
   "execution_count": 14,
   "metadata": {},
   "outputs": [
    {
     "name": "stdout",
     "output_type": "stream",
     "text": [
      "input_array : \n",
      " [[1 0 1 0]\n",
      " [1 0 1 1]\n",
      " [0 1 0 1]] \n",
      "\n",
      "wh : \n",
      " [[0.6582842  0.90189588 0.45114257]\n",
      " [0.39536887 0.24181187 0.30526004]\n",
      " [0.22469505 0.18508499 0.3378869 ]\n",
      " [0.89105716 0.46155404 0.17951312]] \n",
      "\n",
      "bh : \n",
      " [[0.53840912 0.00462223 0.74613692]] \n",
      "\n",
      "hidden_layer_input : \n",
      " [[1.42138836 1.0916031  1.5351664 ]\n",
      " [2.31244553 1.55315714 1.71467952]\n",
      " [1.82483515 0.70798813 1.23091009]] \n",
      "\n",
      "Applying Sigmoid Function for Activation \n",
      "\n",
      "hidden_layer_activation : \n",
      " [[0.80555598 0.74868348 0.82276096]\n",
      " [0.90990254 0.82536925 0.84744225]\n",
      " [0.8611453  0.66995646 0.77397782]] \n",
      "\n",
      "wout : \n",
      " [[0.96552967]\n",
      " [0.90683696]\n",
      " [0.10288495]] \n",
      "\n",
      "y : \n",
      " [[1]\n",
      " [1]\n",
      " [0]] \n",
      "\n",
      "Output : \n",
      " [[0.9201392 ]\n",
      " [0.93195216]\n",
      " [0.91845227]] \n",
      "\n",
      "Error : \n",
      " [[ 0.0798608 ]\n",
      " [ 0.06804784]\n",
      " [-0.91845227]] \n",
      "\n"
     ]
    }
   ],
   "source": [
    "print('input_array : \\n', X, '\\n')\n",
    "print('wh : \\n', wh,'\\n')\n",
    "print ('bh : \\n', bh,'\\n')\n",
    "\n",
    "print('hidden_layer_input : \\n', hidden_layer_input, '\\n')\n",
    "print('Applying Sigmoid Function for Activation \\n')\n",
    "print('hidden_layer_activation : \\n', hidden_layer_activation,'\\n')\n",
    "print ('wout : \\n', wout,'\\n')\n",
    "print ('y : \\n', y,'\\n')\n",
    "print ('Output : \\n', output,'\\n')\n",
    "print ('Error : \\n', E,'\\n')"
   ]
  },
  {
   "cell_type": "code",
   "execution_count": 15,
   "metadata": {},
   "outputs": [
    {
     "name": "stdout",
     "output_type": "stream",
     "text": [
      "Output Slope : \n",
      " [[0.07348305]\n",
      " [0.06341734]\n",
      " [0.0748977 ]] \n",
      "\n",
      "Delta Output : \n",
      " [[ 0.00586841]\n",
      " [ 0.00431541]\n",
      " [-0.06878996]] \n",
      "\n"
     ]
    }
   ],
   "source": [
    "slope_output = derivative_sigmoid(output)\n",
    "delta_output = E * slope_output\n",
    "\n",
    "print('Output Slope : \\n', slope_output, '\\n')\n",
    "print('Delta Output : \\n', delta_output,'\\n')"
   ]
  },
  {
   "cell_type": "code",
   "execution_count": 16,
   "metadata": {},
   "outputs": [
    {
     "name": "stdout",
     "output_type": "stream",
     "text": [
      "Hidden Layer Slope : \n",
      " [[0.15663555 0.18815653 0.14582536]\n",
      " [0.08197991 0.14413485 0.12928388]\n",
      " [0.11957408 0.2211148  0.17493615]] \n",
      "\n",
      "Error at hidden layer : \n",
      " [[ 0.00566613  0.0053217   0.00060377]\n",
      " [ 0.00416666  0.00391338  0.00044399]\n",
      " [-0.06641875 -0.06238128 -0.00707745]] \n",
      "\n",
      "Delta at hidden layer: \n",
      " [[ 8.87517168e-04  1.00131177e-03  8.80452061e-05]\n",
      " [ 3.41582344e-04  5.64053865e-04  5.74008843e-05]\n",
      " [-7.94196060e-03 -1.37934246e-02 -1.23810217e-03]] \n",
      "\n"
     ]
    }
   ],
   "source": [
    "slope_hidden_layer = derivative_sigmoid(hidden_layer_activation)\n",
    "error_at_hidden_layer = delta_output.dot(wout.T)\n",
    "delta_hidden_layer = error_at_hidden_layer * slope_hidden_layer\n",
    "\n",
    "print('Hidden Layer Slope : \\n', slope_hidden_layer, '\\n')\n",
    "print('Error at hidden layer : \\n', error_at_hidden_layer,'\\n')\n",
    "print('Delta at hidden layer: \\n', delta_hidden_layer,'\\n')"
   ]
  },
  {
   "cell_type": "code",
   "execution_count": 19,
   "metadata": {},
   "outputs": [
    {
     "name": "stdout",
     "output_type": "stream",
     "text": [
      "Updated weights at output : \n",
      " [[0.95541283]\n",
      " [0.89921079]\n",
      " [0.09393364]] \n",
      "\n",
      "Updated bias at output : \n",
      " [[0.8911469]] \n",
      "\n",
      "Updated weights at input: \n",
      " [[0.65840711 0.90205242 0.45115712]\n",
      " [0.39457467 0.24043252 0.30513623]\n",
      " [0.22481796 0.18524153 0.33790144]\n",
      " [0.89029713 0.4602311  0.17939505]] \n",
      "\n",
      "Updated bias at input : \n",
      " [[0.53773783 0.00339942 0.74602766]] \n",
      "\n"
     ]
    }
   ],
   "source": [
    "wout += hidden_layer_activation.T.dot(delta_output) * lr\n",
    "bout += np.sum(delta_output,axis = 0, keepdims=True) * lr\n",
    "wh += X.T.dot(delta_hidden_layer) * lr\n",
    "bh += np.sum(delta_hidden_layer, axis = 0, keepdims=True)* lr\n",
    "\n",
    "print('Updated weights at output : \\n', wout, '\\n')\n",
    "print('Updated bias at output : \\n', bout,'\\n')\n",
    "print('Updated weights at input: \\n', wh,'\\n')\n",
    "print('Updated bias at input : \\n', bh,'\\n')"
   ]
  },
  {
   "cell_type": "code",
   "execution_count": 28,
   "metadata": {},
   "outputs": [],
   "source": []
  },
  {
   "cell_type": "code",
   "execution_count": null,
   "metadata": {},
   "outputs": [],
   "source": []
  }
 ],
 "metadata": {
  "kernelspec": {
   "display_name": "Python 3",
   "language": "python",
   "name": "python3"
  },
  "language_info": {
   "codemirror_mode": {
    "name": "ipython",
    "version": 3
   },
   "file_extension": ".py",
   "mimetype": "text/x-python",
   "name": "python",
   "nbconvert_exporter": "python",
   "pygments_lexer": "ipython3",
   "version": "3.5.2"
  }
 },
 "nbformat": 4,
 "nbformat_minor": 2
}
